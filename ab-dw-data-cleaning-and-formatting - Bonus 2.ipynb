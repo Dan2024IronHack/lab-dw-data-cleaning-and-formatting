{
 "cells": [
  {
   "cell_type": "code",
   "execution_count": null,
   "id": "51481418",
   "metadata": {},
   "outputs": [],
   "source": [
    "# Importing Dictionaries for Calculation\n",
    "\n",
    "# import pandas as pd\n",
    "# import numpy as np\n",
    "\n",
    "# Importing data to analyse from Url\n",
    "# url = 'https://raw.githubusercontent.com/data-bootcamp-v4/data/main/file1.csv'\n",
    "# df = pd.read_csv(url)\n",
    "# file6.shape"
   ]
  },
  {
   "cell_type": "code",
   "execution_count": null,
   "id": "c73aeaf0",
   "metadata": {},
   "outputs": [],
   "source": [
    "# Cleaning the Header\n",
    "\n",
    "# Making all header in lower case for easier to read\n",
    "#df.columns = map(str.lower,file6.columns)\n",
    "\n",
    "# Chaing space to underscore in Header\n",
    "\n",
    "# def spaceChange(mystring):\n",
    "#     return mystring.replace(\" \",\"_\")\n",
    "    \n",
    "# df.columns= list(map(spaceChange,file6.columns))\n",
    "\n",
    "# Change the header in the correct name (below example)\n",
    "# df = df.rename(columns={'st': 'state','customer':'customer_id'})\n",
    "\n",
    "# Checking the changes after cleaning\n",
    "# print(df.shape)\n",
    "# df.head()\n"
   ]
  },
  {
   "cell_type": "code",
   "execution_count": null,
   "id": "c5dcb4a8",
   "metadata": {},
   "outputs": [],
   "source": [
    "# Cleaning the data in column - Example below for 1 columns so need to check other columns\n",
    "\n",
    "# Checking what kind of data --> Example in Gender Columns\n",
    "# df['gender'].unique()\n",
    "\n",
    "# Changing to the right content\n",
    "# df['gender'] = df['gender'].replace({'female':'F', 'Male':'M'})\n",
    "\n",
    "# Checking the results\n",
    "# print(df['gender'].unique())\n"
   ]
  },
  {
   "cell_type": "code",
   "execution_count": null,
   "id": "18af9aa6",
   "metadata": {},
   "outputs": [],
   "source": [
    "# Checking if all data is already in the correct type \n",
    "\n",
    "# display(df.dtypes)\n"
   ]
  },
  {
   "cell_type": "code",
   "execution_count": null,
   "id": "5706757c",
   "metadata": {},
   "outputs": [],
   "source": [
    "# Changing Data Type from Object to Numeric \n",
    "\n",
    "#  df[\"customer_lifetime_value\"]= pd.to_numeric([\"customer_lifetime_value\"])\n",
    "\n",
    "# Changing datamodel from 01/4/00 to only 4 \n",
    "\n",
    "# df =file6[file6['customer_lifetime_value'].notna() & (df['customer_lifetime_value'] != 0)]\n",
    "\n",
    "# df[\"number_of_open_complaints\"] = map(str.split(\"/\")[1], df[\"number_of_open_complaints\"])\n",
    "\n",
    "# new_list= []\n",
    "\n",
    "# for item in file6[\"number_of_open_complaints\"]:\n",
    "#     new_list.append(item.split(\"/\")[1])\n",
    "\n",
    "# fdf[\"number_of_open_complaints\"] = new_list\n",
    "\n",
    "# Changing data to round the number\n",
    "\n",
    "# def roundforme(x):\n",
    "#     return round(x,2)\n",
    "\n",
    "# file6['total_claim_amount'] = file6['total_claim_amount'].apply(roundforme)\n",
    "\n",
    "# df.head()\n",
    "\n",
    "# Checking the data of \n",
    "# file6.isna().sum()\n"
   ]
  },
  {
   "cell_type": "code",
   "execution_count": null,
   "id": "d7be1176",
   "metadata": {},
   "outputs": [],
   "source": []
  }
 ],
 "metadata": {
  "kernelspec": {
   "display_name": "Python 3 (ipykernel)",
   "language": "python",
   "name": "python3"
  },
  "language_info": {
   "codemirror_mode": {
    "name": "ipython",
    "version": 3
   },
   "file_extension": ".py",
   "mimetype": "text/x-python",
   "name": "python",
   "nbconvert_exporter": "python",
   "pygments_lexer": "ipython3",
   "version": "3.10.9"
  }
 },
 "nbformat": 4,
 "nbformat_minor": 5
}
